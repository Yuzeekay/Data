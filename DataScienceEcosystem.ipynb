{
 "cells": [
  {
   "cell_type": "markdown",
   "id": "aeb1b1e6-af9e-400b-b696-a16cf2e0b7c6",
   "metadata": {},
   "source": [
    "# Data Science Tools and Ecosystem"
   ]
  },
  {
   "cell_type": "markdown",
   "id": "8155f9e1-df15-4986-82f0-ea03179b7e52",
   "metadata": {},
   "source": [
    "In this notebook, Data Science Tools and Ecosystem are summarized."
   ]
  },
  {
   "cell_type": "markdown",
   "id": "0baa0e8b-d084-4e95-bc6f-90303b19dd0d",
   "metadata": {},
   "source": [
    "## Objectives:"
   ]
  },
  {
   "cell_type": "markdown",
   "id": "d5cdf807-00b9-49a6-855e-3fed64e25d84",
   "metadata": {},
   "source": [
    "* Popular languages used in Data Science\n",
    "* Commonly used libraries\n",
    "* Data Science Tool table\n",
    "* Arithmetic Expressions"
   ]
  },
  {
   "cell_type": "markdown",
   "id": "352c47e5-641b-49f2-aea0-250f2aabeaee",
   "metadata": {},
   "source": [
    "Some of the popular languages that Data Scientists use are:\n",
    "1. Python\n",
    "2. R\n",
    "3. Julia\n",
    "4. MATLAB\n",
    "5. SAS"
   ]
  },
  {
   "cell_type": "markdown",
   "id": "5ca0d018-577c-44fb-b78d-4e1c3141671f",
   "metadata": {},
   "source": [
    "Some of the commonly used libraries used by Data Scientists include:\n",
    "1. NumPy\n",
    "2. Pandas\n",
    "3. Matplotlib\n",
    "4. Seaborn\n",
    "5. Scikit-learn"
   ]
  },
  {
   "cell_type": "markdown",
   "id": "7ba1b0f7-0b03-49a6-8e05-4ef0624c2277",
   "metadata": {},
   "source": [
    "| Data Science Tools |\n",
    "| ------------------ |\n",
    "| Python             |\n",
    "| R                  |\n",
    "| Julia              |"
   ]
  },
  {
   "cell_type": "markdown",
   "id": "0bd80e6d-6942-4529-a316-b62eb56a6d31",
   "metadata": {},
   "source": [
    "### Below are a few examples of evaluating arithmetic expressions in Python"
   ]
  },
  {
   "cell_type": "code",
   "execution_count": 6,
   "id": "0cebd77e-2427-4900-b818-a2e2bc9e36df",
   "metadata": {
    "tags": []
   },
   "outputs": [
    {
     "data": {
      "text/plain": [
       "100"
      ]
     },
     "execution_count": 6,
     "metadata": {},
     "output_type": "execute_result"
    }
   ],
   "source": [
    "(20+5)*4"
   ]
  },
  {
   "cell_type": "code",
   "execution_count": 7,
   "id": "f6c5846a-63b3-4048-b17e-2da10772e252",
   "metadata": {
    "tags": []
   },
   "outputs": [
    {
     "data": {
      "text/plain": [
       "197"
      ]
     },
     "execution_count": 7,
     "metadata": {},
     "output_type": "execute_result"
    }
   ],
   "source": [
    "130+67"
   ]
  },
  {
   "cell_type": "code",
   "execution_count": 8,
   "id": "feea07ad-9804-4d93-8612-6c0fdf293ffe",
   "metadata": {
    "tags": []
   },
   "outputs": [
    {
     "data": {
      "text/plain": [
       "1295.0"
      ]
     },
     "execution_count": 8,
     "metadata": {},
     "output_type": "execute_result"
    }
   ],
   "source": [
    "(925/5)*7"
   ]
  },
  {
   "cell_type": "markdown",
   "id": "0508024b-183e-4eeb-8bc2-4e17b18a369e",
   "metadata": {},
   "source": [
    "This a simple arithmetic expression to mutiply then add integers:"
   ]
  },
  {
   "cell_type": "code",
   "execution_count": 9,
   "id": "84f6faf2-2311-4c87-b900-57e9d27a7900",
   "metadata": {
    "tags": []
   },
   "outputs": [
    {
     "data": {
      "text/plain": [
       "17"
      ]
     },
     "execution_count": 9,
     "metadata": {},
     "output_type": "execute_result"
    }
   ],
   "source": [
    "(3*4)+5"
   ]
  },
  {
   "cell_type": "markdown",
   "id": "e70f4e7a-7ddf-4215-852c-e615f95520ff",
   "metadata": {},
   "source": [
    "This will convert 200 minutes to hours by diving by 60"
   ]
  },
  {
   "cell_type": "code",
   "execution_count": 10,
   "id": "c711c7e4-d98a-417b-b323-d27296fe0ff1",
   "metadata": {
    "tags": []
   },
   "outputs": [
    {
     "data": {
      "text/plain": [
       "3.3333333333333335"
      ]
     },
     "execution_count": 10,
     "metadata": {},
     "output_type": "execute_result"
    }
   ],
   "source": [
    "minutes = 200\n",
    "hours = minutes / 60\n",
    "hours"
   ]
  },
  {
   "cell_type": "markdown",
   "id": "0fa3101d-0920-4aed-90dc-12d192f2412f",
   "metadata": {},
   "source": [
    "## Author"
   ]
  },
  {
   "cell_type": "markdown",
   "id": "dabaa799-1db2-4ba3-9030-3b0a0556869e",
   "metadata": {},
   "source": [
    "Uzma Zaffar"
   ]
  },
  {
   "cell_type": "code",
   "execution_count": null,
   "id": "07b63d3d-494c-4172-8005-51ef39ad96a9",
   "metadata": {},
   "outputs": [],
   "source": []
  }
 ],
 "metadata": {
  "kernelspec": {
   "display_name": "Python",
   "language": "python",
   "name": "conda-env-python-py"
  },
  "language_info": {
   "codemirror_mode": {
    "name": "ipython",
    "version": 3
   },
   "file_extension": ".py",
   "mimetype": "text/x-python",
   "name": "python",
   "nbconvert_exporter": "python",
   "pygments_lexer": "ipython3",
   "version": "3.7.12"
  }
 },
 "nbformat": 4,
 "nbformat_minor": 5
}
